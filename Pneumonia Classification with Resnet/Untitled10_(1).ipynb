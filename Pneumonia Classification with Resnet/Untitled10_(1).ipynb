{
 "cells": [
  {
   "cell_type": "code",
   "execution_count": 1,
   "metadata": {
    "colab": {
     "base_uri": "https://localhost:8080/"
    },
    "id": "G0C2p74uPpGy",
    "outputId": "4ba5582b-e02a-4905-c3f4-c5ab0ae14037"
   },
   "outputs": [
    {
     "name": "stdout",
     "output_type": "stream",
     "text": [
      "Mounted at /content/gdrive\n"
     ]
    }
   ],
   "source": [
    "# connecting to Google.Drive.\n",
    "from google.colab import drive\n",
    "drive.mount('/content/gdrive')"
   ]
  },
  {
   "cell_type": "code",
   "execution_count": 2,
   "metadata": {
    "id": "ckFADWfUPu_7"
   },
   "outputs": [],
   "source": [
    "# specifing to the directory that we are going to save the dataset there.\n",
    "import os\n",
    "os.environ['KAGGLE_CONFIG_DIR'] = \"/content/gdrive/My Drive/Kaggle\""
   ]
  },
  {
   "cell_type": "code",
   "execution_count": 3,
   "metadata": {
    "colab": {
     "base_uri": "https://localhost:8080/"
    },
    "id": "m2mJhMeGPw2c",
    "outputId": "fc3331ca-a59a-4538-df03-31bebc6afa08"
   },
   "outputs": [
    {
     "name": "stdout",
     "output_type": "stream",
     "text": [
      "/content/gdrive/My Drive/Kaggle\n"
     ]
    }
   ],
   "source": [
    "# going to the that directory.\n",
    "%cd /content/gdrive/My Drive/Kaggle"
   ]
  },
  {
   "cell_type": "code",
   "execution_count": null,
   "metadata": {
    "id": "ES-khLOcPy2f"
   },
   "outputs": [],
   "source": [
    "# downloading the chest-xray-pneumonia dataset from kaggle.\n",
    "!kaggle datasets download -d paultimothymooney/chest-xray-pneumonia"
   ]
  },
  {
   "cell_type": "code",
   "execution_count": null,
   "metadata": {
    "id": "e9VmjyU_P3Fo"
   },
   "outputs": [],
   "source": [
    "# unziping the dataset and saving it to the specified directory.\n",
    "!unzip -q 'chest-xray-pneumonia.zip'"
   ]
  },
  {
   "cell_type": "code",
   "execution_count": 5,
   "metadata": {
    "id": "_1JiE3r3P6kg"
   },
   "outputs": [],
   "source": [
    "# importing required libraries.\n",
    "from torchvision import datasets, transforms\n",
    "from torch.utils.data import Dataset,DataLoader\n",
    "import torch\n",
    "from pathlib import Path\n",
    "import torch.nn.functional as F\n",
    "from PIL import Image\n",
    "import torchvision\n",
    "import torch.nn as nn\n",
    "import tensorflow as tf\n",
    "import numpy as np\n",
    "import torch.optim as optim\n",
    "import pandas as pd\n",
    "from torchvision.datasets import ImageFolder"
   ]
  },
  {
   "cell_type": "code",
   "execution_count": 6,
   "metadata": {
    "id": "Cxhy-fKbP8dz"
   },
   "outputs": [],
   "source": [
    "# specifing some constants needed for our work.\n",
    "image_size = 216\n",
    "batch_size = 16\n",
    "num_epochs = 40\n",
    "learning_rate = 0.001"
   ]
  },
  {
   "cell_type": "code",
   "execution_count": 7,
   "metadata": {
    "id": "pHUn70u8P-Re"
   },
   "outputs": [],
   "source": [
    "# this is a class for making our dataset ready for further uses.\n",
    "# it loads the datset from a given path and applying transforms on it if there is any.\n",
    "# it gives normal images label 0 and anomalies label 1.\n",
    "# this class also crop images so that their size be image_size.\n",
    "class MyDataset(object):\n",
    "    def __init__(self, root, split, transforms=None):\n",
    "        self.root = root\n",
    "        self.transforms = transforms\n",
    "        self.data_dir = os.path.join(root, split)\n",
    "        self.imgs = []\n",
    "        for i in list(sorted(os.listdir(os.path.join(self.data_dir, 'NORMAL')))):\n",
    "          if i[-4:] == \"jpeg\":\n",
    "            self.imgs.append((i, 'NORMAL'))\n",
    "        for i  in list(sorted(os.listdir(os.path.join(self.data_dir, 'PNEUMONIA')))):\n",
    "          if i[-4:] == \"jpeg\":\n",
    "            self.imgs.append((i, 'PNEUMONIA')) \n",
    "    \n",
    "    def __len__(self):\n",
    "        return len(self.imgs)\n",
    "\n",
    "    def __getitem__(self, idx):\n",
    "        img_path = os.path.join(self.data_dir, self.imgs[idx][1], self.imgs[idx][0])\n",
    "        img = Image.open(img_path).convert('RGB').resize((image_size, image_size))\n",
    "        img = np.moveaxis(np.array(img)/255.0, -1, 0)\n",
    "        label = 0 if self.imgs[idx][1] == 'NORMAL' else 1\n",
    "        if self.transforms is not None:\n",
    "            img= self.transforms(torch.from_numpy(img).float())\n",
    "        return img, label"
   ]
  },
  {
   "cell_type": "code",
   "execution_count": 8,
   "metadata": {
    "id": "xot6bkSOP-wM"
   },
   "outputs": [],
   "source": [
    "# these are three transforms for our training dataset.\n",
    "train_transforms = transforms.RandomApply(torch.nn.ModuleList([\n",
    "      transforms.RandomHorizontalFlip(p=0.7),\n",
    "      transforms.RandomVerticalFlip(p=0.7),\n",
    "      transforms.RandomPerspective(p=0.7)]), p=0.5)"
   ]
  },
  {
   "cell_type": "code",
   "execution_count": 9,
   "metadata": {
    "id": "zjmwa_ukQAr_"
   },
   "outputs": [],
   "source": [
    "# making train, test and validation dataset ready with our defined class above.\n",
    "root = \"chest_xray/chest_xray\"\n",
    "train_data = MyDataset(root, 'train', train_transforms)\n",
    "test_data = MyDataset(root, 'test')\n",
    "val_data = MyDataset(root, 'val')"
   ]
  },
  {
   "cell_type": "code",
   "execution_count": 10,
   "metadata": {
    "id": "Pp1ftn4PQCTu"
   },
   "outputs": [],
   "source": [
    "# loading datasets with torch.utils.data.DataLoader with a defined batch_size.\n",
    "\n",
    "train_dataloader = torch.utils.data.DataLoader(train_data, batch_size, True)\n",
    "test_dataloader = torch.utils.data.DataLoader(test_data, batch_size, False)\n",
    "val_dataloader = torch.utils.data.DataLoader(val_data, batch_size, True)"
   ]
  },
  {
   "cell_type": "markdown",
   "metadata": {
    "id": "1tJpVpnLUC96"
   },
   "source": [
    "Model with DropOut"
   ]
  },
  {
   "cell_type": "code",
   "execution_count": 12,
   "metadata": {
    "id": "q9wWt2nlQDpm"
   },
   "outputs": [],
   "source": [
    "def convx(in_channels, out_channels, kernel_size, stride, padding=0):\n",
    "    return nn.Conv2d(in_channels, out_channels, kernel_size=kernel_size, stride=stride, padding=padding, bias=False)\n",
    "\n",
    "class ResidualBlock(nn.Module):\n",
    "    def __init__(self, in_channels, out_channels, kernel_size, downsample = None):\n",
    "        super(ResidualBlock, self).__init__()\n",
    "        self.conv1 = convx(in_channels, out_channels, kernel_size, 3, 0)\n",
    "        self.bn1 = nn.BatchNorm2d(out_channels)\n",
    "        self.relu = nn.ReLU(inplace=True)\n",
    "        self.conv2 = convx(out_channels, out_channels, kernel_size, 1, 3)\n",
    "        self.bn2 = nn.BatchNorm2d(out_channels)\n",
    "        self.soft = nn.Softmax(dim=1)\n",
    "        self.downsample = downsample\n",
    "        self.dropout = nn.Dropout(0.4) \n",
    "\n",
    "    def forward(self, x):\n",
    "        residual = x\n",
    "        out = self.conv1(x)\n",
    "        out = self.bn1(out)\n",
    "        out = self.relu(out)\n",
    "        out = self.conv2(out)\n",
    "        out = self.bn2(out)\n",
    "        if self.downsample:\n",
    "            residual = self.downsample(x)\n",
    "        out += residual\n",
    "        out = self.soft(out)\n",
    "        out = self.dropout(out)\n",
    "        return out\n",
    "\n",
    "class ResNet(nn.Module):\n",
    "    def __init__(self, paddings, num_classes = 2):\n",
    "        super(ResNet, self).__init__()\n",
    "        self.in_channels = 3\n",
    "        self.block1 = self.make_layer(16, 7, paddings[0])\n",
    "        self.block2 = self.make_layer(32, 5, paddings[1])\n",
    "        self.block3 = self.make_layer(64, 3, paddings[2])\n",
    "        self.fc = nn.Linear(9216, num_classes)\n",
    "        \n",
    "    def make_layer(self, out_channels, kernel_size, pad):\n",
    "        downsample = None\n",
    "        if self.in_channels != out_channels: \n",
    "            downsample = nn.Sequential(convx(self.in_channels, out_channels, kernel_size, 3, pad), nn.BatchNorm2d(out_channels))\n",
    "        layers = []\n",
    "        layers.append(ResidualBlock(self.in_channels, out_channels, kernel_size, downsample))\n",
    "        self.in_channels = out_channels\n",
    "        return nn.Sequential(* layers)\n",
    "        \n",
    "    def forward(self, x):\n",
    "        out = self.block1(x)\n",
    "        out = self.block2(out)\n",
    "        out = self.block3(out)\n",
    "        out = out.view(out.size(0), -1)\n",
    "        out = self.fc(out)\n",
    "        return out"
   ]
  },
  {
   "cell_type": "code",
   "execution_count": 13,
   "metadata": {
    "id": "2LLha6iQQFWM"
   },
   "outputs": [],
   "source": [
    "model = ResNet([0, 2, 6])\n",
    "device = torch.device(\"cuda:0\" if torch.cuda.is_available() else \"cpu\")\n",
    "model = model.to(device)\n",
    "optimizer = optim.Adam(model.parameters(), lr = learning_rate)\n",
    "def update_lr(optimizer, lr):\n",
    "    for param_group in optimizer.param_groups:\n",
    "        param_group['lr'] = lr\n",
    "curr_lr = learning_rate\n",
    "min_valid_loss = np.inf"
   ]
  },
  {
   "cell_type": "code",
   "execution_count": 15,
   "metadata": {
    "colab": {
     "base_uri": "https://localhost:8080/",
     "height": 1000
    },
    "id": "ZI6OaFNFQHII",
    "outputId": "77bf0a57-b238-4ebc-9a5b-5f760d7296d2"
   },
   "outputs": [
    {
     "name": "stdout",
     "output_type": "stream",
     "text": [
      "step: 0 of epoch: 1 train_loss: 11.111175537109375\n",
      "step: 50 of epoch: 1 train_loss: 9.583984375\n",
      "step: 100 of epoch: 1 train_loss: 3.1891937255859375\n",
      "step: 150 of epoch: 1 train_loss: 7.082729339599609\n",
      "step: 200 of epoch: 1 train_loss: 2.4278388023376465\n",
      "step: 250 of epoch: 1 train_loss: 4.863508224487305\n",
      "step: 300 of epoch: 1 train_loss: 1.0249277353286743\n",
      "Epoch 1 \t\t Train Loss: 4.361318500495396\n",
      "step: 0 of epoch: 2 train_loss: 1.751366138458252\n",
      "step: 50 of epoch: 2 train_loss: 1.5407891273498535\n",
      "step: 100 of epoch: 2 train_loss: 2.483245611190796\n",
      "step: 150 of epoch: 2 train_loss: 1.4254168272018433\n",
      "step: 200 of epoch: 2 train_loss: 0.8409031629562378\n",
      "step: 250 of epoch: 2 train_loss: 3.355459213256836\n",
      "step: 300 of epoch: 2 train_loss: 1.9262642860412598\n",
      "Epoch 2 \t\t Train Loss: 2.7019594953469706\n",
      "step: 0 of epoch: 3 train_loss: 3.649000406265259\n",
      "step: 50 of epoch: 3 train_loss: 0.49754682183265686\n",
      "step: 100 of epoch: 3 train_loss: 0.7863806486129761\n",
      "step: 150 of epoch: 3 train_loss: 1.1430904865264893\n",
      "step: 200 of epoch: 3 train_loss: 3.4898390769958496\n",
      "step: 250 of epoch: 3 train_loss: 1.7322211265563965\n",
      "step: 300 of epoch: 3 train_loss: 0.5367110967636108\n",
      "Epoch 3 \t\t Train Loss: 1.8102260798764376\n",
      "step: 0 of epoch: 4 train_loss: 2.647017478942871\n",
      "step: 50 of epoch: 4 train_loss: 0.5395934581756592\n",
      "step: 100 of epoch: 4 train_loss: 2.7715067863464355\n",
      "step: 150 of epoch: 4 train_loss: 0.24165597558021545\n",
      "step: 200 of epoch: 4 train_loss: 2.1525490283966064\n",
      "step: 250 of epoch: 4 train_loss: 1.9629738330841064\n",
      "step: 300 of epoch: 4 train_loss: 2.700791597366333\n",
      "Epoch 4 \t\t Train Loss: 1.8433751638955864\n",
      "step: 0 of epoch: 5 train_loss: 0.71363765001297\n",
      "step: 50 of epoch: 5 train_loss: 0.28412380814552307\n",
      "step: 100 of epoch: 5 train_loss: 5.38214635848999\n",
      "step: 150 of epoch: 5 train_loss: 0.32269349694252014\n",
      "step: 200 of epoch: 5 train_loss: 0.670646607875824\n",
      "step: 250 of epoch: 5 train_loss: 3.5928611755371094\n",
      "step: 300 of epoch: 5 train_loss: 0.6234860420227051\n",
      "Epoch 5 \t\t Train Loss: 1.239930874176689\n",
      "Epoch 5 \t\t Validation Loss: 45.99645233154297\n"
     ]
    },
    {
     "data": {
      "image/png": "[encoded data removed]",
      "text/plain": [
       "<Figure size 432x288 with 1 Axes>"
      ]
     },
     "metadata": {
      "needs_background": "light",
      "tags": []
     },
     "output_type": "display_data"
    },
    {
     "name": "stdout",
     "output_type": "stream",
     "text": [
      "step: 0 of epoch: 6 train_loss: 1.027295470237732\n",
      "step: 50 of epoch: 6 train_loss: 0.274689644575119\n",
      "step: 100 of epoch: 6 train_loss: 0.15647976100444794\n",
      "step: 150 of epoch: 6 train_loss: 0.31305015087127686\n",
      "step: 200 of epoch: 6 train_loss: 1.4296956062316895\n",
      "step: 250 of epoch: 6 train_loss: 0.03835554048418999\n",
      "step: 300 of epoch: 6 train_loss: 0.3606654107570648\n",
      "Epoch 6 \t\t Train Loss: 0.9660255172649866\n",
      "step: 0 of epoch: 7 train_loss: 1.8726927042007446\n",
      "step: 50 of epoch: 7 train_loss: 0.7635912895202637\n",
      "step: 100 of epoch: 7 train_loss: 0.30508649349212646\n",
      "step: 150 of epoch: 7 train_loss: 0.7100910544395447\n",
      "step: 200 of epoch: 7 train_loss: 0.9821178913116455\n",
      "step: 250 of epoch: 7 train_loss: 0.12842689454555511\n",
      "step: 300 of epoch: 7 train_loss: 0.5118576288223267\n",
      "Epoch 7 \t\t Train Loss: 0.8206158534115169\n",
      "step: 0 of epoch: 8 train_loss: 0.07271135598421097\n",
      "step: 50 of epoch: 8 train_loss: 0.43337613344192505\n",
      "step: 100 of epoch: 8 train_loss: 2.3066625595092773\n",
      "step: 150 of epoch: 8 train_loss: 0.628187894821167\n",
      "step: 200 of epoch: 8 train_loss: 0.6247445344924927\n",
      "step: 250 of epoch: 8 train_loss: 0.11509115248918533\n",
      "step: 300 of epoch: 8 train_loss: 4.967680931091309\n",
      "Epoch 8 \t\t Train Loss: 0.7175814012448344\n",
      "step: 0 of epoch: 9 train_loss: 0.3361559510231018\n",
      "step: 50 of epoch: 9 train_loss: 0.16562916338443756\n",
      "step: 100 of epoch: 9 train_loss: 0.11799516528844833\n",
      "step: 150 of epoch: 9 train_loss: 0.06080969050526619\n",
      "step: 200 of epoch: 9 train_loss: 3.253484010696411\n",
      "step: 250 of epoch: 9 train_loss: 0.38654476404190063\n",
      "step: 300 of epoch: 9 train_loss: 0.2640852630138397\n",
      "Epoch 9 \t\t Train Loss: 0.5391718048653765\n",
      "step: 0 of epoch: 10 train_loss: 0.3765503466129303\n",
      "step: 50 of epoch: 10 train_loss: 0.5896744132041931\n",
      "step: 100 of epoch: 10 train_loss: 0.1653202772140503\n",
      "step: 150 of epoch: 10 train_loss: 0.5010719895362854\n",
      "step: 200 of epoch: 10 train_loss: 0.06015721708536148\n",
      "step: 250 of epoch: 10 train_loss: 1.2971011400222778\n",
      "step: 300 of epoch: 10 train_loss: 0.09941880404949188\n",
      "Epoch 10 \t\t Train Loss: 0.4609422684287184\n",
      "Epoch 10 \t\t Validation Loss: 30.29954719543457\n"
     ]
    },
    {
     "data": {
      "image/png": "[encoded data removed]",
      "text/plain": [
       "<Figure size 432x288 with 1 Axes>"
      ]
     },
     "metadata": {
      "needs_background": "light",
      "tags": []
     },
     "output_type": "display_data"
    },
    {
     "name": "stdout",
     "output_type": "stream",
     "text": [
      "step: 0 of epoch: 11 train_loss: 0.07161714136600494\n",
      "step: 50 of epoch: 11 train_loss: 0.15812894701957703\n",
      "step: 100 of epoch: 11 train_loss: 0.6198684573173523\n",
      "step: 200 of epoch: 11 train_loss: 1.2363457679748535\n",
      "step: 250 of epoch: 11 train_loss: 0.2606774866580963\n",
      "step: 300 of epoch: 11 train_loss: 0.16550466418266296\n",
      "Epoch 11 \t\t Train Loss: 0.41389325261973076\n",
      "step: 0 of epoch: 12 train_loss: 0.14338238537311554\n",
      "step: 50 of epoch: 12 train_loss: 0.4127209782600403\n",
      "step: 100 of epoch: 12 train_loss: 0.13481511175632477\n",
      "step: 150 of epoch: 12 train_loss: 0.771786093711853\n",
      "step: 200 of epoch: 12 train_loss: 0.2795755863189697\n",
      "step: 250 of epoch: 12 train_loss: 0.1092260405421257\n",
      "step: 300 of epoch: 12 train_loss: 0.520715594291687\n",
      "Epoch 12 \t\t Train Loss: 0.37074094813637026\n",
      "step: 0 of epoch: 13 train_loss: 0.9715893268585205\n",
      "step: 50 of epoch: 13 train_loss: 0.5947081446647644\n",
      "step: 100 of epoch: 13 train_loss: 0.10719908773899078\n",
      "step: 150 of epoch: 13 train_loss: 0.22430643439292908\n",
      "step: 200 of epoch: 13 train_loss: 0.21089588105678558\n",
      "step: 250 of epoch: 13 train_loss: 0.14313840866088867\n",
      "step: 300 of epoch: 13 train_loss: 0.4176657199859619\n",
      "Epoch 13 \t\t Train Loss: 0.32122641923248857\n",
      "step: 0 of epoch: 14 train_loss: 0.10038357228040695\n",
      "step: 50 of epoch: 14 train_loss: 0.07927460968494415\n",
      "step: 100 of epoch: 14 train_loss: 0.2552260756492615\n",
      "step: 150 of epoch: 14 train_loss: 0.13140395283699036\n",
      "step: 200 of epoch: 14 train_loss: 0.2012546807527542\n",
      "step: 250 of epoch: 14 train_loss: 0.3114224672317505\n",
      "step: 300 of epoch: 14 train_loss: 0.7233632802963257\n",
      "Epoch 14 \t\t Train Loss: 0.30722561470615717\n",
      "step: 0 of epoch: 15 train_loss: 0.9615141153335571\n",
      "step: 50 of epoch: 15 train_loss: 0.04133067652583122\n",
      "step: 100 of epoch: 15 train_loss: 0.14314666390419006\n",
      "step: 150 of epoch: 15 train_loss: 0.3144139349460602\n",
      "step: 200 of epoch: 15 train_loss: 0.35741642117500305\n",
      "step: 250 of epoch: 15 train_loss: 0.009309222921729088\n",
      "step: 300 of epoch: 15 train_loss: 1.1097908020019531\n",
      "Epoch 15 \t\t Train Loss: 0.2957026573502247\n",
      "Epoch 15 \t\t Validation Loss: 65.72309112548828\n"
     ]
    },
    {
     "data": {
      "image/png": "[encoded data removed]",
      "text/plain": [
       "<Figure size 432x288 with 1 Axes>"
      ]
     },
     "metadata": {
      "needs_background": "light",
      "tags": []
     },
     "output_type": "display_data"
    },
    {
     "name": "stdout",
     "output_type": "stream",
     "text": [
      "step: 0 of epoch: 16 train_loss: 0.5288727283477783\n",
      "step: 50 of epoch: 16 train_loss: 0.12295080721378326\n",
      "step: 100 of epoch: 16 train_loss: 0.43737730383872986\n",
      "step: 150 of epoch: 16 train_loss: 0.1119847297668457\n",
      "step: 200 of epoch: 16 train_loss: 0.2067682296037674\n",
      "step: 250 of epoch: 16 train_loss: 0.45124247670173645\n",
      "step: 300 of epoch: 16 train_loss: 0.22716127336025238\n",
      "Epoch 16 \t\t Train Loss: 0.28526740139521706\n",
      "step: 0 of epoch: 17 train_loss: 0.135066419839859\n",
      "step: 50 of epoch: 17 train_loss: 0.5375837087631226\n",
      "step: 100 of epoch: 17 train_loss: 0.08437255769968033\n",
      "step: 150 of epoch: 17 train_loss: 1.5521141290664673\n",
      "step: 200 of epoch: 17 train_loss: 0.23329618573188782\n",
      "step: 250 of epoch: 17 train_loss: 0.02224503457546234\n",
      "step: 300 of epoch: 17 train_loss: 0.22776025533676147\n",
      "Epoch 17 \t\t Train Loss: 0.2681793788622242\n",
      "step: 0 of epoch: 18 train_loss: 0.11319803446531296\n",
      "step: 50 of epoch: 18 train_loss: 0.22972659766674042\n",
      "step: 100 of epoch: 18 train_loss: 0.08076975494623184\n",
      "step: 150 of epoch: 18 train_loss: 0.21974635124206543\n",
      "step: 200 of epoch: 18 train_loss: 0.32286399602890015\n",
      "step: 250 of epoch: 18 train_loss: 0.3831445872783661\n",
      "step: 300 of epoch: 18 train_loss: 0.026698529720306396\n",
      "Epoch 18 \t\t Train Loss: 0.2635592475727749\n",
      "step: 0 of epoch: 19 train_loss: 0.1385863721370697\n",
      "step: 50 of epoch: 19 train_loss: 0.29051387310028076\n",
      "step: 100 of epoch: 19 train_loss: 0.04006986320018768\n",
      "step: 150 of epoch: 19 train_loss: 0.1813620924949646\n",
      "step: 200 of epoch: 19 train_loss: 0.13612093031406403\n",
      "step: 250 of epoch: 19 train_loss: 0.15338553488254547\n",
      "step: 300 of epoch: 19 train_loss: 0.21329739689826965\n",
      "Epoch 19 \t\t Train Loss: 0.2592771632819682\n",
      "step: 0 of epoch: 20 train_loss: 0.1959308385848999\n",
      "step: 50 of epoch: 20 train_loss: 0.46733102202415466\n",
      "step: 100 of epoch: 20 train_loss: 0.25089117884635925\n",
      "step: 150 of epoch: 20 train_loss: 0.13225142657756805\n",
      "step: 200 of epoch: 20 train_loss: 0.04936603829264641\n",
      "step: 250 of epoch: 20 train_loss: 0.10111658275127411\n",
      "step: 300 of epoch: 20 train_loss: 0.1391962766647339\n",
      "Epoch 20 \t\t Train Loss: 0.25538300316455126\n",
      "Epoch 20 \t\t Validation Loss: 70.84233093261719\n"
     ]
    },
    {
     "data": {
      "image/png": "[encoded data removed]",
      "text/plain": [
       "<Figure size 432x288 with 1 Axes>"
      ]
     },
     "metadata": {
      "needs_background": "light",
      "tags": []
     },
     "output_type": "display_data"
    },
    {
     "name": "stdout",
     "output_type": "stream",
     "text": [
      "step: 0 of epoch: 21 train_loss: 0.18803249299526215\n",
      "step: 50 of epoch: 21 train_loss: 0.796858012676239\n",
      "step: 100 of epoch: 21 train_loss: 0.3001667261123657\n",
      "step: 150 of epoch: 21 train_loss: 0.04881686344742775\n",
      "step: 200 of epoch: 21 train_loss: 0.436452716588974\n",
      "step: 250 of epoch: 21 train_loss: 0.12330219149589539\n",
      "step: 300 of epoch: 21 train_loss: 0.16741283237934113\n",
      "Epoch 21 \t\t Train Loss: 0.24868601765997844\n",
      "step: 0 of epoch: 22 train_loss: 0.17294366657733917\n",
      "step: 50 of epoch: 22 train_loss: 0.1373475193977356\n",
      "step: 100 of epoch: 22 train_loss: 0.10932520031929016\n",
      "step: 150 of epoch: 22 train_loss: 0.1537916213274002\n",
      "step: 200 of epoch: 22 train_loss: 0.048831939697265625\n",
      "step: 250 of epoch: 22 train_loss: 0.05055971443653107\n",
      "step: 300 of epoch: 22 train_loss: 0.09827283769845963\n",
      "Epoch 22 \t\t Train Loss: 0.24729744374160684\n",
      "step: 0 of epoch: 23 train_loss: 0.4108842611312866\n",
      "step: 50 of epoch: 23 train_loss: 0.20782049000263214\n",
      "step: 100 of epoch: 23 train_loss: 0.2928382158279419\n",
      "step: 150 of epoch: 23 train_loss: 0.042804934084415436\n",
      "step: 200 of epoch: 23 train_loss: 0.2528866231441498\n",
      "step: 250 of epoch: 23 train_loss: 0.6900558471679688\n",
      "step: 300 of epoch: 23 train_loss: 0.019032981246709824\n",
      "Epoch 23 \t\t Train Loss: 0.24569761804504994\n",
      "step: 0 of epoch: 24 train_loss: 0.10525292158126831\n",
      "step: 50 of epoch: 24 train_loss: 0.12292631715536118\n",
      "step: 100 of epoch: 24 train_loss: 0.4107130765914917\n",
      "step: 150 of epoch: 24 train_loss: 0.03945683687925339\n",
      "step: 200 of epoch: 24 train_loss: 0.29411983489990234\n",
      "step: 250 of epoch: 24 train_loss: 0.14203226566314697\n",
      "step: 300 of epoch: 24 train_loss: 0.26955148577690125\n",
      "Epoch 24 \t\t Train Loss: 0.2442046724219858\n",
      "step: 0 of epoch: 25 train_loss: 1.2687981128692627\n",
      "step: 50 of epoch: 25 train_loss: 0.0843321681022644\n",
      "step: 100 of epoch: 25 train_loss: 0.008237983100116253\n",
      "step: 150 of epoch: 25 train_loss: 1.3753740787506104\n",
      "step: 200 of epoch: 25 train_loss: 0.04313613846898079\n",
      "step: 250 of epoch: 25 train_loss: 0.06681391596794128\n",
      "step: 300 of epoch: 25 train_loss: 0.24906471371650696\n",
      "Epoch 25 \t\t Train Loss: 0.24192308635947987\n",
      "Epoch 25 \t\t Validation Loss: 74.49327087402344\n"
     ]
    },
    {
     "data": {
      "image/png": "[encoded data removed]",
      "text/plain": [
       "<Figure size 432x288 with 1 Axes>"
      ]
     },
     "metadata": {
      "needs_background": "light",
      "tags": []
     },
     "output_type": "display_data"
    },
    {
     "name": "stdout",
     "output_type": "stream",
     "text": [
      "step: 0 of epoch: 26 train_loss: 0.4232560992240906\n",
      "step: 50 of epoch: 26 train_loss: 0.38491395115852356\n",
      "step: 100 of epoch: 26 train_loss: 0.14833246171474457\n",
      "step: 150 of epoch: 26 train_loss: 0.20268762111663818\n",
      "step: 200 of epoch: 26 train_loss: 0.2280215620994568\n",
      "step: 250 of epoch: 26 train_loss: 0.24836355447769165\n",
      "step: 300 of epoch: 26 train_loss: 0.18848133087158203\n",
      "Epoch 26 \t\t Train Loss: 0.2413660575481463\n",
      "step: 0 of epoch: 27 train_loss: 0.056967489421367645\n",
      "step: 50 of epoch: 27 train_loss: 0.25096461176872253\n",
      "step: 100 of epoch: 27 train_loss: 0.24047452211380005\n",
      "step: 150 of epoch: 27 train_loss: 0.09531368315219879\n",
      "step: 200 of epoch: 27 train_loss: 0.15558449923992157\n",
      "step: 250 of epoch: 27 train_loss: 0.19955867528915405\n",
      "step: 300 of epoch: 27 train_loss: 0.08500004559755325\n",
      "Epoch 27 \t\t Train Loss: 0.240832651496802\n",
      "step: 0 of epoch: 28 train_loss: 0.0721384733915329\n",
      "step: 50 of epoch: 28 train_loss: 0.47771918773651123\n",
      "step: 100 of epoch: 28 train_loss: 0.035908013582229614\n",
      "step: 150 of epoch: 28 train_loss: 0.3270728886127472\n",
      "step: 200 of epoch: 28 train_loss: 0.11888231337070465\n",
      "step: 250 of epoch: 28 train_loss: 0.9865540266036987\n",
      "step: 300 of epoch: 28 train_loss: 0.1218065395951271\n",
      "Epoch 28 \t\t Train Loss: 0.24037910041262173\n",
      "step: 0 of epoch: 29 train_loss: 0.2326926290988922\n",
      "step: 50 of epoch: 29 train_loss: 0.2814561426639557\n",
      "step: 100 of epoch: 29 train_loss: 0.03611480072140694\n",
      "step: 150 of epoch: 29 train_loss: 0.6442809104919434\n",
      "step: 200 of epoch: 29 train_loss: 0.21352918446063995\n",
      "step: 250 of epoch: 29 train_loss: 0.2565768361091614\n",
      "step: 300 of epoch: 29 train_loss: 0.16872677206993103\n",
      "Epoch 29 \t\t Train Loss: 0.2394543908039348\n",
      "step: 0 of epoch: 30 train_loss: 0.38681304454803467\n",
      "step: 50 of epoch: 30 train_loss: 1.0571178197860718\n",
      "step: 100 of epoch: 30 train_loss: 0.20208385586738586\n",
      "step: 150 of epoch: 30 train_loss: 0.1526302695274353\n",
      "step: 200 of epoch: 30 train_loss: 0.15340891480445862\n",
      "step: 250 of epoch: 30 train_loss: 0.3618623614311218\n",
      "step: 300 of epoch: 30 train_loss: 0.028814638033509254\n",
      "Epoch 30 \t\t Train Loss: 0.23927744022039182\n",
      "Epoch 30 \t\t Validation Loss: 27.73432159423828\n"
     ]
    },
    {
     "data": {
      "image/png": "[encoded data removed]",
      "text/plain": [
       "<Figure size 432x288 with 1 Axes>"
      ]
     },
     "metadata": {
      "needs_background": "light",
      "tags": []
     },
     "output_type": "display_data"
    },
    {
     "name": "stdout",
     "output_type": "stream",
     "text": [
      "step: 0 of epoch: 31 train_loss: 0.10126043856143951\n",
      "step: 50 of epoch: 31 train_loss: 0.48451709747314453\n",
      "step: 100 of epoch: 31 train_loss: 0.2563243508338928\n",
      "step: 150 of epoch: 31 train_loss: 0.14019697904586792\n",
      "step: 200 of epoch: 31 train_loss: 0.18959566950798035\n",
      "step: 250 of epoch: 31 train_loss: 0.19206377863883972\n",
      "step: 300 of epoch: 31 train_loss: 0.12836489081382751\n",
      "Epoch 31 \t\t Train Loss: 0.23910527624206995\n",
      "step: 0 of epoch: 32 train_loss: 0.2239888310432434\n",
      "step: 50 of epoch: 32 train_loss: 0.4244733154773712\n",
      "step: 100 of epoch: 32 train_loss: 0.1270492523908615\n",
      "step: 150 of epoch: 32 train_loss: 0.11008691787719727\n",
      "step: 200 of epoch: 32 train_loss: 0.1283470094203949\n",
      "step: 250 of epoch: 32 train_loss: 0.07214277982711792\n",
      "step: 300 of epoch: 32 train_loss: 0.11372433602809906\n",
      "Epoch 32 \t\t Train Loss: 0.2389003819774585\n",
      "step: 0 of epoch: 33 train_loss: 0.1902277171611786\n",
      "step: 50 of epoch: 33 train_loss: 0.2757217288017273\n",
      "step: 100 of epoch: 33 train_loss: 0.11568057537078857\n",
      "step: 150 of epoch: 33 train_loss: 0.2710474729537964\n",
      "step: 200 of epoch: 33 train_loss: 0.4784015715122223\n",
      "step: 250 of epoch: 33 train_loss: 0.257854700088501\n",
      "step: 300 of epoch: 33 train_loss: 0.24018561840057373\n",
      "Epoch 33 \t\t Train Loss: 0.2386264701222464\n",
      "step: 0 of epoch: 34 train_loss: 0.10986904054880142\n",
      "step: 50 of epoch: 34 train_loss: 0.22231653332710266\n",
      "step: 100 of epoch: 34 train_loss: 0.07875920832157135\n",
      "step: 150 of epoch: 34 train_loss: 0.058130186051130295\n",
      "step: 200 of epoch: 34 train_loss: 0.31114163994789124\n",
      "step: 250 of epoch: 34 train_loss: 0.10936863720417023\n",
      "step: 300 of epoch: 34 train_loss: 0.04281860589981079\n",
      "Epoch 34 \t\t Train Loss: 0.23856686763293997\n",
      "step: 0 of epoch: 35 train_loss: 0.2793928384780884\n",
      "step: 50 of epoch: 35 train_loss: 0.09731174260377884\n",
      "step: 100 of epoch: 35 train_loss: 0.010550526902079582\n",
      "step: 150 of epoch: 35 train_loss: 0.24367186427116394\n",
      "step: 200 of epoch: 35 train_loss: 0.18192753195762634\n",
      "step: 250 of epoch: 35 train_loss: 0.10042865574359894\n",
      "step: 300 of epoch: 35 train_loss: 0.05264205485582352\n",
      "Epoch 35 \t\t Train Loss: 0.2385076388053916\n",
      "Epoch 35 \t\t Validation Loss: 42.77771759033203\n"
     ]
    },
    {
     "data": {
      "image/png": "[encoded data removed]",
      "text/plain": [
       "<Figure size 432x288 with 1 Axes>"
      ]
     },
     "metadata": {
      "needs_background": "light",
      "tags": []
     },
     "output_type": "display_data"
    },
    {
     "name": "stdout",
     "output_type": "stream",
     "text": [
      "step: 0 of epoch: 36 train_loss: 0.1026843786239624\n",
      "step: 50 of epoch: 36 train_loss: 0.026404336094856262\n",
      "step: 100 of epoch: 36 train_loss: 0.20044544339179993\n",
      "step: 150 of epoch: 36 train_loss: 0.11211572587490082\n",
      "step: 200 of epoch: 36 train_loss: 0.2110554724931717\n",
      "step: 250 of epoch: 36 train_loss: 0.03715391084551811\n",
      "step: 300 of epoch: 36 train_loss: 0.4963669776916504\n",
      "Epoch 36 \t\t Train Loss: 0.2384462929944982\n",
      "step: 0 of epoch: 37 train_loss: 0.6019651889801025\n",
      "step: 50 of epoch: 37 train_loss: 0.4007227122783661\n",
      "step: 100 of epoch: 37 train_loss: 0.1352725774049759\n",
      "step: 150 of epoch: 37 train_loss: 0.2726082503795624\n",
      "step: 200 of epoch: 37 train_loss: 0.21897253394126892\n",
      "step: 250 of epoch: 37 train_loss: 0.18853497505187988\n",
      "step: 300 of epoch: 37 train_loss: 0.3025561571121216\n",
      "Epoch 37 \t\t Train Loss: 0.2383532984485061\n",
      "step: 0 of epoch: 38 train_loss: 0.9057278633117676\n",
      "step: 50 of epoch: 38 train_loss: 0.08175502717494965\n",
      "step: 100 of epoch: 38 train_loss: 0.3065326511859894\n",
      "step: 150 of epoch: 38 train_loss: 0.3698193430900574\n",
      "step: 200 of epoch: 38 train_loss: 0.36903852224349976\n",
      "step: 250 of epoch: 38 train_loss: 0.03678831085562706\n",
      "step: 300 of epoch: 38 train_loss: 0.8316946625709534\n",
      "Epoch 38 \t\t Train Loss: 0.23833586471698082\n",
      "step: 0 of epoch: 39 train_loss: 0.13309955596923828\n",
      "step: 50 of epoch: 39 train_loss: 0.603638231754303\n",
      "step: 100 of epoch: 39 train_loss: 0.2689068019390106\n",
      "step: 150 of epoch: 39 train_loss: 1.0332481861114502\n",
      "step: 200 of epoch: 39 train_loss: 0.8662530779838562\n",
      "step: 250 of epoch: 39 train_loss: 0.1916297972202301\n",
      "step: 300 of epoch: 39 train_loss: 0.0639541894197464\n",
      "Epoch 39 \t\t Train Loss: 0.23831259088727869\n",
      "step: 0 of epoch: 40 train_loss: 0.1406560242176056\n",
      "step: 50 of epoch: 40 train_loss: 0.17938640713691711\n",
      "step: 100 of epoch: 40 train_loss: 0.19089272618293762\n",
      "step: 150 of epoch: 40 train_loss: 0.043717414140701294\n",
      "step: 200 of epoch: 40 train_loss: 0.07133440673351288\n",
      "step: 250 of epoch: 40 train_loss: 0.194574236869812\n",
      "step: 300 of epoch: 40 train_loss: 0.10481598973274231\n",
      "Epoch 40 \t\t Train Loss: 0.2382928421020942\n",
      "Epoch 40 \t\t Validation Loss: 85.3968734741211\n"
     ]
    },
    {
     "data": {
      "image/png": "[encoded data removed]",
      "text/plain": [
       "<Figure size 432x288 with 1 Axes>"
      ]
     },
     "metadata": {
      "needs_background": "light",
      "tags": []
     },
     "output_type": "display_data"
    }
   ],
   "source": [
    "from sklearn.metrics import confusion_matrix\n",
    "import matplotlib.pyplot as plt\n",
    "\n",
    "train_losses = []\n",
    "validation_losses = []\n",
    "eps = []\n",
    "for epoch in range(num_epochs):\n",
    "  eps.append(epoch+1)\n",
    "  train_loss = 0.0\n",
    "  for i, (images, labels) in enumerate(train_dataloader):\n",
    "      images, labels = images.to(device), labels.to(device)\n",
    "      labels = F.one_hot(labels, 2)\n",
    "      optimizer.zero_grad()\n",
    "      outputs = model(images.float())\n",
    "      labels = labels.type_as(outputs)\n",
    "      loss = F.binary_cross_entropy_with_logits(outputs, labels)\n",
    "      \n",
    "      optimizer.zero_grad()\n",
    "      loss.backward()\n",
    "      optimizer.step()\n",
    "      train_loss += loss.item() * images.size(0)\n",
    "      if i % 50 == 0:\n",
    "        print(\"step: \"+ str(i) + \" of epoch: \" + str(epoch+1) +\" train_loss: \" + str(loss.item() * images.size(0)))\n",
    "  \n",
    "\n",
    "  train_losses.append(train_loss/len(train_dataloader))\n",
    "  print(f'Epoch {epoch+1} \\t\\t Train Loss: {\\\n",
    "    train_loss / len(train_dataloader)}')\n",
    "  \n",
    "  valid_loss = 0.0\n",
    "  model.eval()\n",
    "  for images, labels in val_dataloader:\n",
    "      images, labels = images.cuda(), labels.cuda()\n",
    "      labels = F.one_hot(labels, 2)\n",
    "      target = model(images.float())\n",
    "      labels = labels.type_as(outputs)\n",
    "      loss = F.binary_cross_entropy_with_logits(outputs, labels)\n",
    "      valid_loss += loss.item() * images.size(0)\n",
    "  validation_losses.append(valid_loss/len(val_dataloader))\n",
    "\n",
    "  if (epoch + 1) % 5 == 0:\n",
    "      print(f'Epoch {epoch+1} \\t\\t Validation Loss: {\\\n",
    "        valid_loss / len(val_dataloader)}')\n",
    "      plt.plot(eps, train_losses)\n",
    "      plt.legend([\"train loss\"])\n",
    "      plt.show()\n",
    "      \n",
    "  if (epoch + 1) % 4 == 0:\n",
    "      curr_lr = curr_lr / 3.\n",
    "      update_lr(optimizer, curr_lr)\n",
    "      \n",
    "  if min_valid_loss > valid_loss:\n",
    "    min_valid_loss = valid_loss\n",
    "    torch.save(model.state_dict(), 'saved_model.pth')"
   ]
  },
  {
   "cell_type": "code",
   "execution_count": 19,
   "metadata": {
    "colab": {
     "base_uri": "https://localhost:8080/"
    },
    "id": "vEnibwi3Yohu",
    "outputId": "72689d3c-e111-4c29-cea9-fcb495fc2d09"
   },
   "outputs": [
    {
     "name": "stdout",
     "output_type": "stream",
     "text": [
      "Test Loss: 13.848788661798702\n",
      "Accuracy on test dataset: 0.8974358974358974\n",
      "Confusion matrix of test dataset is: [[ 172 62] \n",
      "[  2 388]]\n"
     ]
    }
   ],
   "source": [
    "model = ResNet([0, 2, 6]).to(\"cuda\")\n",
    "model.load_state_dict(torch.load(\"saved_model.pth\"))\n",
    "model.eval()\n",
    "with torch.no_grad():\n",
    "    test_loss = 0.0\n",
    "    total = 0.0\n",
    "    correct = 0.0\n",
    "    predictions = []\n",
    "    ll = []\n",
    "    for data in test_dataloader:\n",
    "        images, labels = data\n",
    "        y_hot = F.one_hot(labels, 2)\n",
    "        images, y_hot = images.to(device), y_hot.to(device)\n",
    "        outputs = model(images.float())\n",
    "        y_hot = y_hot.type_as(outputs)\n",
    "        _, preds = torch.max(outputs, 1)\n",
    "        for k in preds.cpu().numpy():\n",
    "            predictions.append(k)\n",
    "        for k in labels.cpu().numpy():\n",
    "            ll.append(k)\n",
    "        total += labels.size(0)\n",
    "        correct += (labels.to(\"cuda\") == preds).sum().item()\n",
    "        loss =  F.binary_cross_entropy_with_logits(outputs, y_hot)\n",
    "        test_loss += loss.item() * images.size(0)\n",
    "    print(\"Test Loss: \" + str(test_loss/len(test_dataloader)))\n",
    "    print(\"Accuracy on test dataset: \" + str(correct/total))\n",
    "    print(\"Confusion matrix of test dataset is: \" + str(confusion_matrix(ll, predictions)))"
   ]
  },
  {
   "cell_type": "markdown",
   "metadata": {
    "id": "JCU7OuaCU_aQ"
   },
   "source": [
    "Model without DropOut"
   ]
  },
  {
   "cell_type": "code",
   "execution_count": 11,
   "metadata": {
    "id": "6YhwBDYFU72M"
   },
   "outputs": [],
   "source": [
    "def convx(in_channels, out_channels, kernel_size, stride, padding=0):\n",
    "    return nn.Conv2d(in_channels, out_channels, kernel_size=kernel_size, stride=stride, padding=padding, bias=False)\n",
    "\n",
    "class ResidualBlock(nn.Module):\n",
    "    def __init__(self, in_channels, out_channels, kernel_size, downsample = None):\n",
    "        super(ResidualBlock, self).__init__()\n",
    "        self.conv1 = convx(in_channels, out_channels, kernel_size, 3, 0)\n",
    "        self.bn1 = nn.BatchNorm2d(out_channels)\n",
    "        self.relu = nn.ReLU(inplace=True)\n",
    "        self.conv2 = convx(out_channels, out_channels, kernel_size, 1, 3)\n",
    "        self.bn2 = nn.BatchNorm2d(out_channels)\n",
    "        self.soft = nn.Softmax(dim=1)\n",
    "        self.downsample = downsample\n",
    "        # self.dropout = nn.Dropout(0.4) \n",
    "\n",
    "    def forward(self, x):\n",
    "        residual = x\n",
    "        out = self.conv1(x)\n",
    "        out = self.bn1(out)\n",
    "        out = self.relu(out)\n",
    "        out = self.conv2(out)\n",
    "        out = self.bn2(out)\n",
    "        if self.downsample:\n",
    "            residual = self.downsample(x)\n",
    "        out += residual\n",
    "        out = self.soft(out)\n",
    "        # out = self.dropout(out)\n",
    "        return out\n",
    "\n",
    "class ResNet(nn.Module):\n",
    "    def __init__(self, paddings, num_classes = 2):\n",
    "        super(ResNet, self).__init__()\n",
    "        self.in_channels = 3\n",
    "        self.block1 = self.make_layer(16, 7, paddings[0])\n",
    "        self.block2 = self.make_layer(32, 5, paddings[1])\n",
    "        self.block3 = self.make_layer(64, 3, paddings[2])\n",
    "        self.fc = nn.Linear(9216, num_classes)\n",
    "        \n",
    "    def make_layer(self, out_channels, kernel_size, pad):\n",
    "        downsample = None\n",
    "        if self.in_channels != out_channels: \n",
    "            downsample = nn.Sequential(convx(self.in_channels, out_channels, kernel_size, 3, pad), nn.BatchNorm2d(out_channels))\n",
    "        layers = []\n",
    "        layers.append(ResidualBlock(self.in_channels, out_channels, kernel_size, downsample))\n",
    "        self.in_channels = out_channels\n",
    "        return nn.Sequential(* layers)\n",
    "        \n",
    "    def forward(self, x):\n",
    "        out = self.block1(x)\n",
    "        out = self.block2(out)\n",
    "        out = self.block3(out)\n",
    "        out = out.view(out.size(0), -1)\n",
    "        out = self.fc(out)\n",
    "        return out"
   ]
  },
  {
   "cell_type": "code",
   "execution_count": 12,
   "metadata": {
    "id": "m-GiupESVkUn"
   },
   "outputs": [],
   "source": [
    "model = ResNet([0, 2, 6])\n",
    "learning_rate = 0.001\n",
    "device = torch.device(\"cuda:0\" if torch.cuda.is_available() else \"cpu\")\n",
    "model = model.to(device)\n",
    "optimizer = optim.Adam(model.parameters(), lr = learning_rate)\n",
    "def update_lr(optimizer, lr):\n",
    "    for param_group in optimizer.param_groups:\n",
    "        param_group['lr'] = lr\n",
    "curr_lr = learning_rate\n",
    "min_valid_loss = np.inf"
   ]
  },
  {
   "cell_type": "code",
   "execution_count": 13,
   "metadata": {
    "colab": {
     "base_uri": "https://localhost:8080/",
     "height": 1000
    },
    "id": "kVqni7KzVoGD",
    "outputId": "9f331e1b-2695-47c4-baeb-3a110c145196"
   },
   "outputs": [
    {
     "name": "stdout",
     "output_type": "stream",
     "text": [
      "step: 0 of epoch: 1 train_loss: 11.110100746154785\n",
      "step: 50 of epoch: 1 train_loss: 4.2255730628967285\n",
      "step: 100 of epoch: 1 train_loss: 1.8811638355255127\n",
      "step: 150 of epoch: 1 train_loss: 1.098260760307312\n",
      "step: 200 of epoch: 1 train_loss: 0.726036787033081\n",
      "step: 250 of epoch: 1 train_loss: 6.771018981933594\n",
      "step: 300 of epoch: 1 train_loss: 0.49374377727508545\n",
      "Epoch 1 \t\t Train Loss: 3.114320259792673\n",
      "step: 0 of epoch: 2 train_loss: 11.956233024597168\n",
      "step: 50 of epoch: 2 train_loss: 5.3148345947265625\n",
      "step: 100 of epoch: 2 train_loss: 4.181025505065918\n",
      "step: 150 of epoch: 2 train_loss: 2.5282411575317383\n",
      "step: 200 of epoch: 2 train_loss: 1.8577555418014526\n",
      "step: 250 of epoch: 2 train_loss: 3.668917179107666\n",
      "step: 300 of epoch: 2 train_loss: 1.492607593536377\n",
      "Epoch 2 \t\t Train Loss: 3.7174314470744574\n",
      "step: 0 of epoch: 3 train_loss: 4.992262840270996\n",
      "step: 50 of epoch: 3 train_loss: 3.406445264816284\n",
      "step: 100 of epoch: 3 train_loss: 5.177135467529297\n",
      "step: 150 of epoch: 3 train_loss: 2.6582226753234863\n",
      "step: 200 of epoch: 3 train_loss: 1.740196704864502\n",
      "step: 250 of epoch: 3 train_loss: 2.7477493286132812\n",
      "step: 300 of epoch: 3 train_loss: 3.33554744720459\n",
      "Epoch 3 \t\t Train Loss: 2.738771298911674\n",
      "step: 0 of epoch: 4 train_loss: 1.0714224576950073\n",
      "step: 50 of epoch: 4 train_loss: 1.1514689922332764\n",
      "step: 100 of epoch: 4 train_loss: 3.3652286529541016\n",
      "step: 150 of epoch: 4 train_loss: 1.6102948188781738\n",
      "step: 200 of epoch: 4 train_loss: 1.0073769092559814\n",
      "step: 250 of epoch: 4 train_loss: 4.845710277557373\n",
      "step: 300 of epoch: 4 train_loss: 2.4572787284851074\n",
      "Epoch 4 \t\t Train Loss: 2.823819851582767\n",
      "step: 0 of epoch: 5 train_loss: 1.1273871660232544\n",
      "step: 50 of epoch: 5 train_loss: 0.4768461585044861\n",
      "step: 100 of epoch: 5 train_loss: 0.958696722984314\n",
      "step: 150 of epoch: 5 train_loss: 0.7252609133720398\n",
      "step: 200 of epoch: 5 train_loss: 2.3420538902282715\n",
      "step: 250 of epoch: 5 train_loss: 2.878872871398926\n",
      "step: 300 of epoch: 5 train_loss: 1.0750514268875122\n",
      "Epoch 5 \t\t Train Loss: 2.0602662634744418\n",
      "Epoch 5 \t\t Validation Loss: 37.64578628540039\n"
     ]
    },
    {
     "data": {
      "image/png": "[encoded data removed]",
      "text/plain": [
       "<Figure size 432x288 with 1 Axes>"
      ]
     },
     "metadata": {
      "tags": []
     },
     "output_type": "display_data"
    },
    {
     "name": "stdout",
     "output_type": "stream",
     "text": [
      "step: 0 of epoch: 6 train_loss: 3.8119916915893555\n",
      "step: 50 of epoch: 6 train_loss: 1.9186246395111084\n",
      "step: 100 of epoch: 6 train_loss: 0.3512640595436096\n",
      "step: 150 of epoch: 6 train_loss: 1.1566293239593506\n",
      "step: 200 of epoch: 6 train_loss: 1.4016565084457397\n",
      "step: 250 of epoch: 6 train_loss: 1.9285868406295776\n",
      "step: 300 of epoch: 6 train_loss: 0.7843197584152222\n",
      "Epoch 6 \t\t Train Loss: 1.7274071420857147\n",
      "step: 0 of epoch: 7 train_loss: 0.5334954261779785\n",
      "step: 50 of epoch: 7 train_loss: 2.167703866958618\n",
      "step: 100 of epoch: 7 train_loss: 1.1731235980987549\n",
      "step: 150 of epoch: 7 train_loss: 0.482147753238678\n",
      "step: 200 of epoch: 7 train_loss: 2.6471433639526367\n",
      "step: 250 of epoch: 7 train_loss: 2.3838281631469727\n",
      "step: 300 of epoch: 7 train_loss: 0.8307613730430603\n",
      "Epoch 7 \t\t Train Loss: 1.598313230266966\n",
      "step: 0 of epoch: 8 train_loss: 2.599612236022949\n",
      "step: 50 of epoch: 8 train_loss: 0.955375075340271\n",
      "step: 100 of epoch: 8 train_loss: 1.3468177318572998\n",
      "step: 150 of epoch: 8 train_loss: 1.3624929189682007\n",
      "step: 200 of epoch: 8 train_loss: 1.3870233297348022\n",
      "step: 250 of epoch: 8 train_loss: 5.871758460998535\n",
      "step: 300 of epoch: 8 train_loss: 1.9525916576385498\n",
      "Epoch 8 \t\t Train Loss: 1.4686795483611843\n",
      "step: 0 of epoch: 9 train_loss: 0.2211184799671173\n",
      "step: 50 of epoch: 9 train_loss: 7.211122989654541\n",
      "step: 100 of epoch: 9 train_loss: 0.38931789994239807\n",
      "step: 150 of epoch: 9 train_loss: 4.35467004776001\n",
      "step: 200 of epoch: 9 train_loss: 0.17212852835655212\n",
      "step: 250 of epoch: 9 train_loss: 1.571160078048706\n",
      "step: 300 of epoch: 9 train_loss: 1.7897841930389404\n",
      "Epoch 9 \t\t Train Loss: 1.2271655874292544\n",
      "step: 0 of epoch: 10 train_loss: 0.27762842178344727\n",
      "step: 50 of epoch: 10 train_loss: 1.4919569492340088\n",
      "step: 100 of epoch: 10 train_loss: 1.8417102098464966\n",
      "step: 150 of epoch: 10 train_loss: 0.5873866081237793\n",
      "step: 200 of epoch: 10 train_loss: 3.7857182025909424\n",
      "step: 250 of epoch: 10 train_loss: 3.8969078063964844\n",
      "step: 300 of epoch: 10 train_loss: 0.845350980758667\n",
      "Epoch 10 \t\t Train Loss: 1.117828251691135\n",
      "Epoch 10 \t\t Validation Loss: 22.289474487304688\n"
     ]
    },
    {
     "data": {
      "image/png": "[encoded data removed]",
      "text/plain": [
       "<Figure size 432x288 with 1 Axes>"
      ]
     },
     "metadata": {
      "tags": []
     },
     "output_type": "display_data"
    },
    {
     "name": "stdout",
     "output_type": "stream",
     "text": [
      "step: 0 of epoch: 11 train_loss: 0.4094056189060211\n",
      "step: 50 of epoch: 11 train_loss: 1.8971480131149292\n",
      "step: 100 of epoch: 11 train_loss: 0.6984108686447144\n",
      "step: 150 of epoch: 11 train_loss: 0.30442649126052856\n",
      "step: 200 of epoch: 11 train_loss: 1.0905860662460327\n",
      "step: 250 of epoch: 11 train_loss: 1.900491714477539\n",
      "step: 300 of epoch: 11 train_loss: 1.7516182661056519\n",
      "Epoch 11 \t\t Train Loss: 1.004062942909134\n",
      "step: 0 of epoch: 12 train_loss: 0.26406702399253845\n",
      "step: 50 of epoch: 12 train_loss: 1.3809183835983276\n",
      "step: 100 of epoch: 12 train_loss: 0.503076434135437\n",
      "step: 150 of epoch: 12 train_loss: 0.6386374235153198\n",
      "step: 200 of epoch: 12 train_loss: 0.9242559671401978\n",
      "step: 250 of epoch: 12 train_loss: 0.24966514110565186\n",
      "step: 300 of epoch: 12 train_loss: 0.3396278917789459\n",
      "Epoch 12 \t\t Train Loss: 0.9313193968171539\n",
      "step: 0 of epoch: 13 train_loss: 4.088217735290527\n",
      "step: 50 of epoch: 13 train_loss: 0.8128550052642822\n",
      "step: 100 of epoch: 13 train_loss: 1.2719568014144897\n",
      "step: 150 of epoch: 13 train_loss: 0.3330068588256836\n",
      "step: 200 of epoch: 13 train_loss: 0.6842377781867981\n",
      "step: 250 of epoch: 13 train_loss: 1.2018163204193115\n",
      "step: 300 of epoch: 13 train_loss: 0.10934074223041534\n",
      "Epoch 13 \t\t Train Loss: 0.8169739494568731\n",
      "step: 0 of epoch: 14 train_loss: 0.8840703964233398\n",
      "step: 50 of epoch: 14 train_loss: 1.2020978927612305\n",
      "step: 100 of epoch: 14 train_loss: 0.6031244397163391\n",
      "step: 150 of epoch: 14 train_loss: 2.279085874557495\n",
      "step: 200 of epoch: 14 train_loss: 0.48181024193763733\n",
      "step: 250 of epoch: 14 train_loss: 0.7935593128204346\n",
      "step: 300 of epoch: 14 train_loss: 0.23752503097057343\n",
      "Epoch 14 \t\t Train Loss: 0.7776903944958481\n",
      "step: 0 of epoch: 15 train_loss: 0.16546806693077087\n",
      "step: 50 of epoch: 15 train_loss: 0.6989946961402893\n",
      "step: 100 of epoch: 15 train_loss: 0.5241519212722778\n",
      "step: 150 of epoch: 15 train_loss: 0.6737152338027954\n",
      "step: 200 of epoch: 15 train_loss: 0.45807895064353943\n",
      "step: 250 of epoch: 15 train_loss: 0.7253240942955017\n",
      "step: 300 of epoch: 15 train_loss: 0.033766694366931915\n",
      "Epoch 15 \t\t Train Loss: 0.7473670319751179\n",
      "Epoch 15 \t\t Validation Loss: 46.70941925048828\n"
     ]
    },
    {
     "data": {
      "image/png": "[encoded data removed]",
      "text/plain": [
       "<Figure size 432x288 with 1 Axes>"
      ]
     },
     "metadata": {
      "tags": []
     },
     "output_type": "display_data"
    },
    {
     "name": "stdout",
     "output_type": "stream",
     "text": [
      "step: 0 of epoch: 16 train_loss: 0.7673250436782837\n",
      "step: 50 of epoch: 16 train_loss: 0.3053167164325714\n",
      "step: 100 of epoch: 16 train_loss: 0.9442304372787476\n",
      "step: 150 of epoch: 16 train_loss: 0.903649091720581\n",
      "step: 200 of epoch: 16 train_loss: 0.15709686279296875\n",
      "step: 250 of epoch: 16 train_loss: 0.8327545523643494\n",
      "step: 300 of epoch: 16 train_loss: 0.8646787405014038\n",
      "Epoch 16 \t\t Train Loss: 0.7253035268420639\n",
      "step: 0 of epoch: 17 train_loss: 0.5049425363540649\n",
      "step: 50 of epoch: 17 train_loss: 1.5435709953308105\n",
      "step: 100 of epoch: 17 train_loss: 0.3130671977996826\n",
      "step: 150 of epoch: 17 train_loss: 0.40403982996940613\n",
      "step: 200 of epoch: 17 train_loss: 0.4545893371105194\n",
      "step: 250 of epoch: 17 train_loss: 0.2585768401622772\n",
      "step: 300 of epoch: 17 train_loss: 1.569037675857544\n",
      "Epoch 17 \t\t Train Loss: 0.688379945393446\n",
      "step: 0 of epoch: 18 train_loss: 1.7109884023666382\n",
      "step: 50 of epoch: 18 train_loss: 0.35351359844207764\n",
      "step: 100 of epoch: 18 train_loss: 0.5834267139434814\n",
      "step: 150 of epoch: 18 train_loss: 1.216371774673462\n",
      "step: 200 of epoch: 18 train_loss: 0.22551193833351135\n",
      "step: 250 of epoch: 18 train_loss: 0.343832403421402\n",
      "step: 300 of epoch: 18 train_loss: 1.8071699142456055\n",
      "Epoch 18 \t\t Train Loss: 0.6780701020184013\n",
      "step: 0 of epoch: 19 train_loss: 1.5638962984085083\n",
      "step: 50 of epoch: 19 train_loss: 1.0134886503219604\n",
      "step: 100 of epoch: 19 train_loss: 0.3598942160606384\n",
      "step: 150 of epoch: 19 train_loss: 0.5300465226173401\n",
      "step: 200 of epoch: 19 train_loss: 0.1442294418811798\n",
      "step: 250 of epoch: 19 train_loss: 0.44365188479423523\n",
      "step: 300 of epoch: 19 train_loss: 0.3075310289859772\n",
      "Epoch 19 \t\t Train Loss: 0.6700604392181327\n",
      "step: 0 of epoch: 20 train_loss: 0.1623850166797638\n",
      "step: 50 of epoch: 20 train_loss: 0.28770682215690613\n",
      "step: 100 of epoch: 20 train_loss: 0.7337926626205444\n",
      "step: 150 of epoch: 20 train_loss: 0.12920859456062317\n",
      "step: 200 of epoch: 20 train_loss: 0.2943444848060608\n",
      "step: 250 of epoch: 20 train_loss: 1.4103143215179443\n",
      "step: 300 of epoch: 20 train_loss: 0.8892494440078735\n",
      "Epoch 20 \t\t Train Loss: 0.6626861895337427\n",
      "Epoch 20 \t\t Validation Loss: 44.303550720214844\n"
     ]
    },
    {
     "data": {
      "image/png": "[encoded data removed]",
      "text/plain": [
       "<Figure size 432x288 with 1 Axes>"
      ]
     },
     "metadata": {
      "tags": []
     },
     "output_type": "display_data"
    },
    {
     "name": "stdout",
     "output_type": "stream",
     "text": [
      "step: 0 of epoch: 21 train_loss: 0.3251760005950928\n",
      "step: 50 of epoch: 21 train_loss: 1.9654881954193115\n",
      "step: 100 of epoch: 21 train_loss: 0.12709543108940125\n",
      "step: 150 of epoch: 21 train_loss: 0.3262608051300049\n",
      "step: 200 of epoch: 21 train_loss: 0.13415853679180145\n",
      "step: 250 of epoch: 21 train_loss: 0.31772518157958984\n",
      "step: 300 of epoch: 21 train_loss: 0.10217802226543427\n",
      "Epoch 21 \t\t Train Loss: 0.6486775453025304\n",
      "step: 0 of epoch: 22 train_loss: 0.172143816947937\n",
      "step: 50 of epoch: 22 train_loss: 0.21431678533554077\n",
      "step: 100 of epoch: 22 train_loss: 0.5490210056304932\n",
      "step: 150 of epoch: 22 train_loss: 0.883479118347168\n",
      "step: 200 of epoch: 22 train_loss: 1.1948456764221191\n",
      "step: 250 of epoch: 22 train_loss: 0.3856402039527893\n",
      "step: 300 of epoch: 22 train_loss: 1.9433562755584717\n",
      "Epoch 22 \t\t Train Loss: 0.6458858995601261\n",
      "step: 0 of epoch: 23 train_loss: 1.491032600402832\n",
      "step: 50 of epoch: 23 train_loss: 0.5746293067932129\n",
      "step: 100 of epoch: 23 train_loss: 0.2106117606163025\n",
      "step: 150 of epoch: 23 train_loss: 1.742272973060608\n",
      "step: 200 of epoch: 23 train_loss: 2.0920801162719727\n",
      "step: 250 of epoch: 23 train_loss: 0.8267455697059631\n",
      "step: 300 of epoch: 23 train_loss: 0.7683369517326355\n",
      "Epoch 23 \t\t Train Loss: 0.6433640218859801\n",
      "step: 0 of epoch: 24 train_loss: 1.4612330198287964\n",
      "step: 50 of epoch: 24 train_loss: 0.3705780506134033\n",
      "step: 100 of epoch: 24 train_loss: 0.8469782471656799\n",
      "step: 150 of epoch: 24 train_loss: 0.05041639879345894\n",
      "step: 200 of epoch: 24 train_loss: 0.6862683296203613\n",
      "step: 250 of epoch: 24 train_loss: 0.11578216403722763\n",
      "step: 300 of epoch: 24 train_loss: 0.054701969027519226\n",
      "Epoch 24 \t\t Train Loss: 0.6394804169658137\n",
      "step: 0 of epoch: 25 train_loss: 0.28940513730049133\n",
      "step: 50 of epoch: 25 train_loss: 1.8304922580718994\n",
      "step: 100 of epoch: 25 train_loss: 0.1893540769815445\n",
      "step: 150 of epoch: 25 train_loss: 0.3292905390262604\n",
      "step: 200 of epoch: 25 train_loss: 0.9796770811080933\n",
      "step: 250 of epoch: 25 train_loss: 0.9154596924781799\n",
      "step: 300 of epoch: 25 train_loss: 0.65827476978302\n",
      "Epoch 25 \t\t Train Loss: 0.6354874304604311\n",
      "Epoch 25 \t\t Validation Loss: 59.73501968383789\n"
     ]
    },
    {
     "data": {
      "image/png": "[encoded data removed]",
      "text/plain": [
       "<Figure size 432x288 with 1 Axes>"
      ]
     },
     "metadata": {
      "tags": []
     },
     "output_type": "display_data"
    },
    {
     "name": "stdout",
     "output_type": "stream",
     "text": [
      "step: 0 of epoch: 26 train_loss: 0.10981127619743347\n",
      "step: 50 of epoch: 26 train_loss: 0.5164788365364075\n",
      "step: 100 of epoch: 26 train_loss: 0.6433833837509155\n",
      "step: 150 of epoch: 26 train_loss: 1.6871163845062256\n",
      "step: 200 of epoch: 26 train_loss: 0.8923040628433228\n",
      "step: 250 of epoch: 26 train_loss: 1.0775773525238037\n",
      "step: 300 of epoch: 26 train_loss: 0.3131418228149414\n",
      "Epoch 26 \t\t Train Loss: 0.6343105335839869\n",
      "step: 0 of epoch: 27 train_loss: 0.520794153213501\n",
      "step: 50 of epoch: 27 train_loss: 0.405331015586853\n",
      "step: 100 of epoch: 27 train_loss: 0.6821717023849487\n",
      "step: 150 of epoch: 27 train_loss: 0.07754384726285934\n",
      "step: 200 of epoch: 27 train_loss: 0.23999139666557312\n",
      "step: 250 of epoch: 27 train_loss: 2.9933457374572754\n",
      "step: 300 of epoch: 27 train_loss: 0.6454689502716064\n",
      "Epoch 27 \t\t Train Loss: 0.6332516050754697\n",
      "step: 0 of epoch: 28 train_loss: 1.3851964473724365\n",
      "step: 50 of epoch: 28 train_loss: 0.2897091209888458\n",
      "step: 100 of epoch: 28 train_loss: 0.32467976212501526\n",
      "step: 150 of epoch: 28 train_loss: 2.93192720413208\n",
      "step: 200 of epoch: 28 train_loss: 1.162237286567688\n",
      "step: 250 of epoch: 28 train_loss: 0.9782084226608276\n",
      "step: 300 of epoch: 28 train_loss: 1.702819585800171\n",
      "Epoch 28 \t\t Train Loss: 0.6322622800565845\n",
      "step: 0 of epoch: 29 train_loss: 0.09067192673683167\n",
      "step: 50 of epoch: 29 train_loss: 0.17111358046531677\n",
      "step: 100 of epoch: 29 train_loss: 0.5790245532989502\n",
      "step: 150 of epoch: 29 train_loss: 0.5480741262435913\n",
      "step: 200 of epoch: 29 train_loss: 0.14312835037708282\n",
      "step: 250 of epoch: 29 train_loss: 0.7108604907989502\n",
      "step: 300 of epoch: 29 train_loss: 0.8836861848831177\n",
      "Epoch 29 \t\t Train Loss: 0.6304769292702338\n",
      "step: 0 of epoch: 30 train_loss: 0.2526719272136688\n",
      "step: 50 of epoch: 30 train_loss: 1.688658356666565\n",
      "step: 100 of epoch: 30 train_loss: 0.5278595685958862\n",
      "step: 150 of epoch: 30 train_loss: 0.4081763029098511\n",
      "step: 200 of epoch: 30 train_loss: 0.34537917375564575\n",
      "step: 250 of epoch: 30 train_loss: 0.093021921813488\n",
      "step: 300 of epoch: 30 train_loss: 0.5767748355865479\n",
      "Epoch 30 \t\t Train Loss: 0.6301616178596953\n",
      "Epoch 30 \t\t Validation Loss: 44.20423126220703\n"
     ]
    },
    {
     "data": {
      "image/png": "[encoded data removed]",
      "text/plain": [
       "<Figure size 432x288 with 1 Axes>"
      ]
     },
     "metadata": {
      "tags": []
     },
     "output_type": "display_data"
    },
    {
     "name": "stdout",
     "output_type": "stream",
     "text": [
      "step: 0 of epoch: 31 train_loss: 0.16558092832565308\n",
      "step: 50 of epoch: 31 train_loss: 0.7701253890991211\n",
      "step: 100 of epoch: 31 train_loss: 1.2312581539154053\n",
      "step: 150 of epoch: 31 train_loss: 0.30525314807891846\n",
      "step: 200 of epoch: 31 train_loss: 0.2453698217868805\n",
      "step: 250 of epoch: 31 train_loss: 0.4414498209953308\n",
      "step: 300 of epoch: 31 train_loss: 0.5478980541229248\n",
      "Epoch 31 \t\t Train Loss: 0.6297901886875278\n",
      "step: 0 of epoch: 32 train_loss: 2.236499547958374\n",
      "step: 50 of epoch: 32 train_loss: 0.026198208332061768\n",
      "step: 100 of epoch: 32 train_loss: 0.43545469641685486\n",
      "step: 150 of epoch: 32 train_loss: 0.05293969437479973\n",
      "step: 200 of epoch: 32 train_loss: 0.272431880235672\n",
      "step: 250 of epoch: 32 train_loss: 0.3937895596027374\n",
      "step: 300 of epoch: 32 train_loss: 0.25047120451927185\n",
      "Epoch 32 \t\t Train Loss: 0.6294021187750108\n",
      "step: 0 of epoch: 33 train_loss: 0.927192747592926\n",
      "step: 50 of epoch: 33 train_loss: 0.8036581873893738\n",
      "step: 100 of epoch: 33 train_loss: 0.3470293879508972\n",
      "step: 150 of epoch: 33 train_loss: 0.18728601932525635\n",
      "step: 200 of epoch: 33 train_loss: 0.36351683735847473\n",
      "step: 250 of epoch: 33 train_loss: 0.5454090237617493\n",
      "step: 300 of epoch: 33 train_loss: 0.11915621161460876\n",
      "Epoch 33 \t\t Train Loss: 0.6288166093451479\n",
      "step: 0 of epoch: 34 train_loss: 0.4711124300956726\n",
      "step: 50 of epoch: 34 train_loss: 0.39594680070877075\n",
      "step: 100 of epoch: 34 train_loss: 1.0589019060134888\n",
      "step: 150 of epoch: 34 train_loss: 1.4602141380310059\n",
      "step: 200 of epoch: 34 train_loss: 0.18336299061775208\n",
      "step: 250 of epoch: 34 train_loss: 3.298971176147461\n",
      "step: 300 of epoch: 34 train_loss: 0.3404792547225952\n",
      "Epoch 34 \t\t Train Loss: 0.6286858995130823\n",
      "step: 0 of epoch: 35 train_loss: 1.65696382522583\n",
      "step: 50 of epoch: 35 train_loss: 0.16272830963134766\n",
      "step: 100 of epoch: 35 train_loss: 1.1777734756469727\n",
      "step: 150 of epoch: 35 train_loss: 0.29043158888816833\n",
      "step: 200 of epoch: 35 train_loss: 1.0635722875595093\n",
      "step: 250 of epoch: 35 train_loss: 0.32570797204971313\n",
      "step: 300 of epoch: 35 train_loss: 0.21186596155166626\n",
      "Epoch 35 \t\t Train Loss: 0.6285668923948075\n",
      "Epoch 35 \t\t Validation Loss: 26.020545959472656\n"
     ]
    },
    {
     "data": {
      "image/png": "[encoded data removed]",
      "text/plain": [
       "<Figure size 432x288 with 1 Axes>"
      ]
     },
     "metadata": {
      "needs_background": "light",
      "tags": []
     },
     "output_type": "display_data"
    },
    {
     "name": "stdout",
     "output_type": "stream",
     "text": [
      "step: 0 of epoch: 36 train_loss: 0.4937055706977844\n",
      "step: 50 of epoch: 36 train_loss: 0.09615275263786316\n",
      "step: 100 of epoch: 36 train_loss: 0.3095288574695587\n",
      "step: 150 of epoch: 36 train_loss: 0.4954717755317688\n",
      "step: 200 of epoch: 36 train_loss: 0.43002790212631226\n",
      "step: 250 of epoch: 36 train_loss: 0.41917285323143005\n",
      "step: 300 of epoch: 36 train_loss: 0.3361585736274719\n",
      "Epoch 36 \t\t Train Loss: 0.6284395052817153\n",
      "step: 0 of epoch: 37 train_loss: 1.2920947074890137\n",
      "step: 50 of epoch: 37 train_loss: 0.2025812566280365\n",
      "step: 100 of epoch: 37 train_loss: 0.46175917983055115\n",
      "step: 150 of epoch: 37 train_loss: 1.0466604232788086\n",
      "step: 200 of epoch: 37 train_loss: 0.3145468831062317\n",
      "step: 250 of epoch: 37 train_loss: 0.13350795209407806\n",
      "step: 300 of epoch: 37 train_loss: 0.22800254821777344\n",
      "Epoch 37 \t\t Train Loss: 0.6282803699876999\n",
      "step: 0 of epoch: 38 train_loss: 0.9811955690383911\n",
      "step: 50 of epoch: 38 train_loss: 0.7152453064918518\n",
      "step: 100 of epoch: 38 train_loss: 0.6853064894676208\n",
      "step: 150 of epoch: 38 train_loss: 0.6626602411270142\n",
      "step: 200 of epoch: 38 train_loss: 1.8985642194747925\n",
      "step: 250 of epoch: 38 train_loss: 0.529883623123169\n",
      "step: 300 of epoch: 38 train_loss: 0.3620774745941162\n",
      "Epoch 38 \t\t Train Loss: 0.6282302903274268\n",
      "step: 0 of epoch: 39 train_loss: 0.088332399725914\n",
      "step: 50 of epoch: 39 train_loss: 0.23799628019332886\n",
      "step: 100 of epoch: 39 train_loss: 1.251705288887024\n",
      "step: 150 of epoch: 39 train_loss: 0.19981658458709717\n",
      "step: 200 of epoch: 39 train_loss: 0.5788557529449463\n",
      "step: 250 of epoch: 39 train_loss: 0.5009293556213379\n",
      "step: 300 of epoch: 39 train_loss: 0.1591942310333252\n",
      "Epoch 39 \t\t Train Loss: 0.6281739606813419\n",
      "step: 0 of epoch: 40 train_loss: 0.46016478538513184\n",
      "step: 50 of epoch: 40 train_loss: 0.176207035779953\n",
      "step: 100 of epoch: 40 train_loss: 0.22833257913589478\n",
      "step: 150 of epoch: 40 train_loss: 1.563523769378662\n",
      "step: 200 of epoch: 40 train_loss: 0.44947707653045654\n",
      "step: 250 of epoch: 40 train_loss: 0.28367653489112854\n",
      "step: 300 of epoch: 40 train_loss: 0.15842729806900024\n",
      "Epoch 40 \t\t Train Loss: 0.6281302218936795\n",
      "Epoch 40 \t\t Validation Loss: 46.978309631347656\n"
     ]
    },
    {
     "data": {
      "image/png": "[encoded data removed]",
      "text/plain": [
       "<Figure size 432x288 with 1 Axes>"
      ]
     },
     "metadata": {
      "needs_background": "light",
      "tags": []
     },
     "output_type": "display_data"
    }
   ],
   "source": [
    "from sklearn.metrics import confusion_matrix\n",
    "import matplotlib.pyplot as plt\n",
    "\n",
    "train_losses = []\n",
    "validation_losses = []\n",
    "eps = []\n",
    "for epoch in range(num_epochs):\n",
    "  eps.append(epoch+1)\n",
    "  train_loss = 0.0\n",
    "  for i, (images, labels) in enumerate(train_dataloader):\n",
    "      images, labels = images.to(device), labels.to(device)\n",
    "      labels = F.one_hot(labels, 2)\n",
    "      optimizer.zero_grad()\n",
    "      outputs = model(images.float())\n",
    "      labels = labels.type_as(outputs)\n",
    "      loss = F.binary_cross_entropy_with_logits(outputs, labels)\n",
    "      \n",
    "      optimizer.zero_grad()\n",
    "      loss.backward()\n",
    "      optimizer.step()\n",
    "      train_loss += loss.item() * images.size(0)\n",
    "      if i % 50 == 0:\n",
    "        print(\"step: \"+ str(i) + \" of epoch: \" + str(epoch+1) +\" train_loss: \" + str(loss.item() * images.size(0)))\n",
    "  \n",
    "\n",
    "  train_losses.append(train_loss/len(train_dataloader))\n",
    "  print(f'Epoch {epoch+1} \\t\\t Train Loss: {\\\n",
    "    train_loss / len(train_dataloader)}')\n",
    "  \n",
    "  valid_loss = 0.0\n",
    "  model.eval()\n",
    "  for images, labels in val_dataloader:\n",
    "      images, labels = images.to(device), labels.to(device)\n",
    "      labels = F.one_hot(labels, 2)\n",
    "      target = model(images.float())\n",
    "      labels = labels.type_as(outputs)\n",
    "      loss = F.binary_cross_entropy_with_logits(outputs, labels)\n",
    "      valid_loss += loss.item() * images.size(0)\n",
    "  validation_losses.append(valid_loss/len(val_dataloader))\n",
    "\n",
    "  if (epoch + 1) % 5 == 0:\n",
    "      print(f'Epoch {epoch+1} \\t\\t Validation Loss: {\\\n",
    "        valid_loss / len(val_dataloader)}')\n",
    "      plt.plot(eps, train_losses)\n",
    "      plt.legend([\"train loss\"])\n",
    "      plt.show()\n",
    "      \n",
    "  if (epoch + 1) % 4 == 0:\n",
    "      curr_lr = curr_lr / 3.\n",
    "      update_lr(optimizer, curr_lr)\n",
    "      \n",
    "  if min_valid_loss > valid_loss:\n",
    "    min_valid_loss = valid_loss\n",
    "    torch.save(model.state_dict(), 'saved_model1.pth')"
   ]
  },
  {
   "cell_type": "code",
   "execution_count": 3,
   "metadata": {
    "colab": {
     "base_uri": "https://localhost:8080/"
    },
    "id": "KMfHF_uJhQFr",
    "outputId": "a24eb645-1287-4f15-e41c-fb10cbd5e782"
   },
   "outputs": [
    {
     "name": "stdout",
     "output_type": "stream",
     "text": [
      "Test Loss: 18.85090729288566\n",
      "Accuracy on test dataset: 0.8525641025641025\n",
      "Confusion matrix of test dataset is: [[ 151 83] \n",
      " [  9 381]]\n"
     ]
    }
   ],
   "source": [
    "model = ResNet([0, 2, 6]).to(\"cuda\")\n",
    "model.load_state_dict(torch.load(\"saved_model.pth\"))\n",
    "model.eval()\n",
    "with torch.no_grad():\n",
    "    test_loss = 0.0\n",
    "    total = 0.0\n",
    "    correct = 0.0\n",
    "    predictions = []\n",
    "    ll = []\n",
    "    for data in test_dataloader:\n",
    "        images, labels = data\n",
    "        y_hot = F.one_hot(labels, 2)\n",
    "        images, y_hot = images.to(device), y_hot.to(device)\n",
    "        outputs = model(images.float())\n",
    "        y_hot = y_hot.type_as(outputs)\n",
    "        _, preds = torch.max(outputs, 1)\n",
    "        for k in preds.cpu().numpy():\n",
    "            predictions.append(k)\n",
    "        for k in labels.cpu().numpy():\n",
    "            ll.append(k)\n",
    "        total += labels.size(0)\n",
    "        correct += (labels.to(\"cuda\") == preds).sum().item()\n",
    "        loss =  F.binary_cross_entropy_with_logits(outputs, y_hot)\n",
    "        test_loss += loss.item() * images.size(0)\n",
    "    print(\"Test Loss: \" + str(test_loss/len(test_dataloader)))\n",
    "    print(\"Accuracy on test dataset: \" + str(correct/total))\n",
    "    print(\"Confusion matrix of test dataset is: \" + str(confusion_matrix(ll, predictions)))"
   ]
  }
 ],
 "metadata": {
  "accelerator": "GPU",
  "colab": {
   "collapsed_sections": [],
   "name": "Untitled10 (1).ipynb",
   "provenance": []
  },
  "kernelspec": {
   "display_name": "Python 3",
   "language": "python",
   "name": "python3"
  },
  "language_info": {
   "codemirror_mode": {
    "name": "ipython",
    "version": 3
   },
   "file_extension": ".py",
   "mimetype": "text/x-python",
   "name": "python",
   "nbconvert_exporter": "python",
   "pygments_lexer": "ipython3",
   "version": "3.8.6"
  }
 },
 "nbformat": 4,
 "nbformat_minor": 1
}
