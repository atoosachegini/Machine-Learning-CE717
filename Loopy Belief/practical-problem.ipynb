{
 "cells": [
  {
   "cell_type": "code",
   "execution_count": 1,
   "metadata": {},
   "outputs": [],
   "source": [
    "import numpy as np\n",
    "import scipy.io as sio\n",
    "import matplotlib.pyplot as plt\n",
    "import random"
   ]
  },
  {
   "cell_type": "code",
   "execution_count": 2,
   "metadata": {},
   "outputs": [],
   "source": [
    "def loadLDPC(filename):\n",
    "    A = sio.loadmat(filename)\n",
    "    G = A['G']\n",
    "    H = A['H']\n",
    "    return G, H"
   ]
  },
  {
   "cell_type": "code",
   "execution_count": 3,
   "metadata": {},
   "outputs": [],
   "source": [
    "def apply_channel_noise(y, epsilon):\n",
    "    y_tilde = y.copy()\n",
    "    for i in range(len(y_tilde)):\n",
    "        rand = random.uniform(0, 1)\n",
    "        if rand >= epsilon:\n",
    "            if y_tilde[i] == 0:\n",
    "                y_tilde[i] = 1\n",
    "            elif y_tilde[i] == 1:\n",
    "                y_tilde[i] = 0\n",
    "    return y_tilde"
   ]
  },
  {
   "cell_type": "code",
   "execution_count": 4,
   "metadata": {},
   "outputs": [],
   "source": [
    "def encode_message(x, G):\n",
    "    new_message = np.dot(G, x) % 2\n",
    "    return new_message"
   ]
  },
  {
   "cell_type": "markdown",
   "metadata": {},
   "source": [
    "---"
   ]
  },
  {
   "cell_type": "code",
   "execution_count": 5,
   "metadata": {},
   "outputs": [],
   "source": [
    "# unary factor\n",
    "class FactorTypeOne():\n",
    "    def __init__(self, y_til, epsilon):\n",
    "        self.y_til = y_til\n",
    "        self.epsilon = epsilon\n",
    "    \n",
    "    def calculate_value(self, y):\n",
    "        return self.epsilon if y != self.y_til else 1-self.epsilon"
   ]
  },
  {
   "cell_type": "code",
   "execution_count": 6,
   "metadata": {},
   "outputs": [],
   "source": [
    "class FactorTypeTwo():\n",
    "    def __init__(self, scope):\n",
    "        self.scope = np.array(scope)\n",
    "        \n",
    "    def calculate_value(self, y_test):\n",
    "        s = 0\n",
    "        for i in self.scope:\n",
    "            s += y_test[i]\n",
    "        return 1 if s % 2 == 0 else 0"
   ]
  },
  {
   "cell_type": "code",
   "execution_count": 7,
   "metadata": {},
   "outputs": [],
   "source": [
    "class FactorGraph():\n",
    "    \n",
    "    def __init__(self, H, epsilon, y_tilde):\n",
    "        self.factors_type1 = [] # list of FactorTypeOne\n",
    "        self.factors_type2 = [] # list of FactorTypeTwo\n",
    "        self.var_to_factor = {} # map --> (var, [factors related to this var])\n",
    "        self.factor_to_var = {} # map --> (factor, [vars related to this factor])\n",
    "        self.messagesVarToFactor = {}\n",
    "        self.messagesFactorToVar = {}\n",
    "\n",
    "        for i,b in enumerate(y_tilde):\n",
    "            self.factors_type1.append(FactorTypeOne(y_tilde[i], epsilon))\n",
    "            self.var_to_factor[i] = [(1, len(self.factors_type1) - 1), ] # 1 means that the factor is from the first type\n",
    "            self.factor_to_var[(1, len(self.factors_type1) - 1)] = [i, ] # 1 means that the factor is from the first type\n",
    "        \n",
    "        for row in H:\n",
    "            scope = [var for var in range(len(y_tilde)) if row[var] == 1]\n",
    "            self.factors_type2.append(FactorTypeTwo(scope))\n",
    "            \n",
    "            for i in scope:\n",
    "                self.var_to_factor[i].append((2, len(self.factors_type2) - 1)) # 2 means that the factor is from the 2nd type\n",
    "                \n",
    "            self.factor_to_var[(2, len(self.factors_type2) - 1)] = scope       # 2 means that the factor is from the 2nd type\n",
    "        \n",
    "        \n",
    "    ############################################################################################################       \n",
    "        \n",
    "        \n",
    "    def assignment_probability(self, assignment):\n",
    "        prob = 1\n",
    "        \n",
    "        # For unary Factors:\n",
    "        for i, b in enumerate(assignment):\n",
    "            prob_this_bit = self.factors_type1[i].calculate_value(b)\n",
    "            prob *= prob_this_bit\n",
    "        \n",
    "        # Second Type\n",
    "        for f2 in self.factors_type2:\n",
    "            prob *= f2.calculate_value(assignment)\n",
    "            \n",
    "        return prob\n",
    "    \n",
    "\n",
    "    ############################################################################################################       \n",
    "    \n",
    "    \n",
    "    def LoopyBP(self, n_iteration):\n",
    "        \n",
    "        for ite in range(n_iteration):\n",
    "\n",
    "            prevMessagesVarToFactor = {}\n",
    "            prevMessagesFactorToVar = {}\n",
    "            \n",
    "            for i, fcts in enumerate(self.var_to_factor):\n",
    "                factors = self.var_to_factor[fcts]\n",
    "                for s in factors:\n",
    "                    if (i,s) not in self.messagesVarToFactor:\n",
    "                        self.messagesVarToFactor[(i, s)] = np.array([0.5, 0.5])\n",
    "                    prevMessagesVarToFactor[(i, s)] = self.messagesVarToFactor[(i, s)]\n",
    "                    \n",
    "            for s, vrbs in enumerate(self.factor_to_var):\n",
    "                variables = self.factor_to_var[vrbs]\n",
    "                for i in variables:\n",
    "                    if (vrbs, i) not in self.messagesFactorToVar:\n",
    "                        self.messagesFactorToVar[(vrbs, i)] = np.array([0.5, 0.5])\n",
    "                    prevMessagesFactorToVar[(vrbs, i)] = self.messagesFactorToVar[(vrbs, i)]\n",
    "                    \n",
    "            # Update the message var -> factor\n",
    "            for j, fcts in enumerate(self.var_to_factor):\n",
    "                factors = self.var_to_factor[fcts]\n",
    "                for I in factors:\n",
    "                    s0 = 1\n",
    "                    s1 = 1\n",
    "                    for J in factors:\n",
    "                        if J != I:\n",
    "                            s0 *= prevMessagesFactorToVar[(J, fcts)][0]\n",
    "                            s1 *= prevMessagesFactorToVar[(J, fcts)][1]\n",
    "                    self.messagesVarToFactor[(fcts, I)] = np.array([s0, s1])\n",
    "                            \n",
    "\n",
    "            # Update the message factor -> var\n",
    "            for s, I in enumerate(self.factor_to_var):\n",
    "                variable = self.factor_to_var[I]\n",
    "                typee = I[0]\n",
    "                for i in variable:\n",
    "                    s0 = 0\n",
    "                    s1 = 0\n",
    "                    for mask in range(2**(len(variable)-1)):\n",
    "                        t = 1\n",
    "                        temp0 = 1\n",
    "                        temp1 = 1\n",
    "                        y = [0 for i in range(len(H)*2)]\n",
    "                        if typee == 1:\n",
    "                            for cnt, var in enumerate(variable):\n",
    "                                if var != i:\n",
    "                                    y[var] = 1 if (mask & (2**cnt)) == 0 else 0\n",
    "                                    temp0 *= self.factors_type1[var].calculate_value(y[var])\n",
    "                                    temp1 *= self.factors_type1[var].calculate_value(y[var])\n",
    "                                else:\n",
    "                                    temp0 *= self.factors_type1[var].calculate_value(1)\n",
    "                                    temp1 *= self.factors_type1[var].calculate_value(0)\n",
    "                        if typee == 2:\n",
    "                            y[i] = 1\n",
    "                            temp0 *= self.factors_type2[I[1]].calculate_value(y)\n",
    "                            y[i] = 0\n",
    "                            temp1 *= self.factors_type2[I[1]].calculate_value(y)\n",
    "                        \n",
    "                        for j in variable:\n",
    "                            if j != i:\n",
    "                                t *= prevMessagesVarToFactor[(j, I)][y[j]]\n",
    "                        s0 += temp0*t\n",
    "                        s1 += temp1*t\n",
    "                    self.messagesFactorToVar[(I, i)] = np.array([s0, s1])\n",
    "                \n",
    "            # Warning: Don't forget to normalize the message at each time.\n",
    "            \n",
    "            \n",
    "            if ite % 10 == 0 and ite > 0:\n",
    "                print(\"Finished Loopy Iteration %s\" % ite)\n",
    "    \n",
    "    \n",
    "    ############################################################################################################       \n",
    "    \n",
    "    \n",
    "    def estimateMarginalProbability(self, var):\n",
    "        '''\n",
    "        This method assumes LoopyBP has been run\n",
    "        '''\n",
    "        res = [(0.0, 0.0)]\n",
    "        for factor in self.var_to_factor[var]:\n",
    "            res += np.array(self.messagesFactorToVar[(factor, var)])\n",
    "        return sum(res)\n",
    "\n",
    "    ############################################################################################################       \n",
    "    \n",
    "    \n",
    "    def getMarginalMAP(self):\n",
    "        output = np.zeros(256)\n",
    "        for i, var in enumerate(range(256)):\n",
    "            output[i] = np.argmax(self.estimateMarginalProbability(i))\n",
    "        return output\n",
    "    \n",
    "        \n",
    "    "
   ]
  },
  {
   "cell_type": "markdown",
   "metadata": {},
   "source": [
    "---"
   ]
  },
  {
   "cell_type": "code",
   "execution_count": 8,
   "metadata": {},
   "outputs": [
    {
     "name": "stdout",
     "output_type": "stream",
     "text": [
      "0.0\n",
      "0.038689046874999994\n",
      "0.0\n"
     ]
    }
   ],
   "source": [
    "y_tilde = np.array([[1, 1, 1, 1, 1, 1]]).reshape(6, 1)\n",
    "H = np.array([\n",
    "        [0, 1, 0, 1, 1, 0],\n",
    "        [1, 0, 1, 0, 1, 1],\n",
    "        [0, 1, 1, 0, 1, 0]])\n",
    "epsilon = 0.05\n",
    "\n",
    "Graph = FactorGraph(H, epsilon, y_tilde)\n",
    "ytest1 = np.array([0, 1, 1, 0, 1, 0])\n",
    "ytest2 = np.array([1, 0, 1, 1, 1, 1])\n",
    "ytest3 = np.array([1, 0, 1, 1, 0, 1])\n",
    "\n",
    "print(Graph.assignment_probability(ytest1))\n",
    "print(Graph.assignment_probability(ytest2))\n",
    "print(Graph.assignment_probability(ytest3))\n",
    "\n",
    "\n",
    "#تنها تست دوم غیر صفر شده است که منطقی است چون بیشترین تعداد 1 را دارد\n",
    "#و تنها در یک خانه با پیام نویزی تفاوت دارد."
   ]
  },
  {
   "cell_type": "markdown",
   "metadata": {},
   "source": [
    "---"
   ]
  },
  {
   "cell_type": "code",
   "execution_count": 9,
   "metadata": {},
   "outputs": [
    {
     "name": "stdout",
     "output_type": "stream",
     "text": [
      "Finished Loopy Iteration 10\n",
      "Finished Loopy Iteration 20\n",
      "Finished Loopy Iteration 30\n",
      "Finished Loopy Iteration 40\n",
      "240 out of 256 bits are predicted correctly.\n"
     ]
    }
   ],
   "source": [
    "G, H = loadLDPC('GH.mat')\n",
    "\n",
    "epsilon = 0.05\n",
    "N = G.shape[1]\n",
    "x = np.ones((N, 1), dtype='int32')\n",
    "y = encode_message(x, G)\n",
    "yTilde = apply_channel_noise(y, epsilon)\n",
    "G = FactorGraph(H, epsilon, yTilde)\n",
    "G.LoopyBP(50)\n",
    "best_estimation = G.getMarginalMAP()\n",
    "best = best_estimation.astype(int)\n",
    "count = 0\n",
    "for i in range(len(best)):\n",
    "    if (best[i] == 0) and (y[i] == 0):\n",
    "        count += 1\n",
    "    if (best[i] == 1) and (y[i] == 1):\n",
    "        count += 1\n",
    "print(str(count) + \" out of 256 bits are predicted correctly.\") \n",
    "# خیر تمام بیت های  این پیام با پیام اصلی یکسان نیستند اما حدود 93 درصد بیت ها را به درستی تشخیص داده است."
   ]
  },
  {
   "cell_type": "code",
   "execution_count": null,
   "metadata": {},
   "outputs": [],
   "source": []
  },
  {
   "cell_type": "code",
   "execution_count": null,
   "metadata": {},
   "outputs": [],
   "source": []
  }
 ],
 "metadata": {
  "kernelspec": {
   "display_name": "Python 3",
   "language": "python",
   "name": "python3"
  },
  "language_info": {
   "codemirror_mode": {
    "name": "ipython",
    "version": 3
   },
   "file_extension": ".py",
   "mimetype": "text/x-python",
   "name": "python",
   "nbconvert_exporter": "python",
   "pygments_lexer": "ipython3",
   "version": "3.8.6"
  }
 },
 "nbformat": 4,
 "nbformat_minor": 4
}
